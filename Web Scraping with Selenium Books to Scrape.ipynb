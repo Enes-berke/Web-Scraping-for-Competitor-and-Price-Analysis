{
 "cells": [
  {
   "cell_type": "markdown",
   "id": "0f47edbd",
   "metadata": {},
   "source": [
    "**Görev - 1**"
   ]
  },
  {
   "cell_type": "code",
   "execution_count": 1,
   "id": "0fc7c9ce",
   "metadata": {},
   "outputs": [],
   "source": [
    "# 1. Selenium'un Webdriver sınıfını kullanarak bir adet options adında ChromeOptions tanımlamalıyız"
   ]
  },
  {
   "cell_type": "code",
   "execution_count": 2,
   "id": "66d6705e",
   "metadata": {},
   "outputs": [],
   "source": [
    "from selenium import webdriver\n",
    "options = webdriver.ChromeOptions()"
   ]
  },
  {
   "cell_type": "code",
   "execution_count": 3,
   "id": "d0bc4b5f",
   "metadata": {},
   "outputs": [],
   "source": [
    "# 2. Tanımladığımız options'a tam ekran özelliği kazandırıyoruz"
   ]
  },
  {
   "cell_type": "code",
   "execution_count": 4,
   "id": "7dc5236a",
   "metadata": {},
   "outputs": [],
   "source": [
    "options.add_argument('--start-maximized')"
   ]
  },
  {
   "cell_type": "code",
   "execution_count": 5,
   "id": "b7f49a06",
   "metadata": {},
   "outputs": [],
   "source": [
    "# 3. Bir önceki adımlarda hazırladığımız options'ı da kullanarak bir adet driver adında Chrome tarayıcısı oluşturuyoruz."
   ]
  },
  {
   "cell_type": "code",
   "execution_count": 6,
   "id": "6c416bd2",
   "metadata": {},
   "outputs": [],
   "source": [
    "driver = webdriver.Chrome(options)"
   ]
  },
  {
   "cell_type": "markdown",
   "id": "da1f7fa9",
   "metadata": {},
   "source": [
    "******"
   ]
  },
  {
   "cell_type": "markdown",
   "id": "8ebc3b65",
   "metadata": {},
   "source": [
    "**Görev - 2**"
   ]
  },
  {
   "cell_type": "code",
   "execution_count": 7,
   "id": "0a13e122",
   "metadata": {},
   "outputs": [],
   "source": [
    "# 1. Anasayfayı driver ile açacağız ve inceleyeceğiz."
   ]
  },
  {
   "cell_type": "code",
   "execution_count": 8,
   "id": "1c65f641",
   "metadata": {},
   "outputs": [],
   "source": [
    "import time\n",
    "SLEEP_TIME = 2"
   ]
  },
  {
   "cell_type": "code",
   "execution_count": 9,
   "id": "b1d96871",
   "metadata": {},
   "outputs": [],
   "source": [
    "driver.get(\"https://books.toscrape.com/\")\n",
    "time.sleep(SLEEP_TIME)"
   ]
  },
  {
   "cell_type": "code",
   "execution_count": 10,
   "id": "20ccdf75",
   "metadata": {},
   "outputs": [],
   "source": [
    "# 2. 'Travel' ve 'Nonfiction' kategori sayfalarının linklerini tutan elemanları bulan XPATH sorgusu yazmalıyız"
   ]
  },
  {
   "cell_type": "code",
   "execution_count": 11,
   "id": "cb87e366",
   "metadata": {},
   "outputs": [],
   "source": [
    "category_elements_xpath =\"//a[contains(text() , 'Travel') or contains(text() , 'Nonfiction')]\""
   ]
  },
  {
   "cell_type": "code",
   "execution_count": 12,
   "id": "45b57334",
   "metadata": {},
   "outputs": [],
   "source": [
    "# 3. XPATH sorgusu ile yakaladığımız elementleri driver'ı kullanarak bulacağız ve kategori detay linklerini kazıyacağız"
   ]
  },
  {
   "cell_type": "code",
   "execution_count": 13,
   "id": "8687c2e2",
   "metadata": {},
   "outputs": [],
   "source": [
    "from selenium.webdriver.common.by import By\n",
    "category_elements = driver.find_elements(By.XPATH , category_elements_xpath) # find.elements metodunu kullandık"
   ]
  },
  {
   "cell_type": "code",
   "execution_count": 14,
   "id": "b136aef9",
   "metadata": {},
   "outputs": [
    {
     "data": {
      "text/plain": [
       "[<selenium.webdriver.remote.webelement.WebElement (session=\"ba906400091fd3cc3c99fea7a8efa088\", element=\"f.0F99AA6396F07A06249017B042671FE1.d.CB58A4E4D82D744954147DA7FE2C22C3.e.52\")>,\n",
       " <selenium.webdriver.remote.webelement.WebElement (session=\"ba906400091fd3cc3c99fea7a8efa088\", element=\"f.0F99AA6396F07A06249017B042671FE1.d.CB58A4E4D82D744954147DA7FE2C22C3.e.53\")>]"
      ]
     },
     "execution_count": 14,
     "metadata": {},
     "output_type": "execute_result"
    }
   ],
   "source": [
    "category_elements"
   ]
  },
  {
   "cell_type": "code",
   "execution_count": 15,
   "id": "95e1c760",
   "metadata": {},
   "outputs": [
    {
     "data": {
      "text/plain": [
       "['https://books.toscrape.com/catalogue/category/books/travel_2/index.html',\n",
       " 'https://books.toscrape.com/catalogue/category/books/nonfiction_13/index.html']"
      ]
     },
     "execution_count": 15,
     "metadata": {},
     "output_type": "execute_result"
    }
   ],
   "source": [
    "category_urls = [element.get_attribute(\"href\") for element in category_elements]\n",
    "category_urls"
   ]
  },
  {
   "cell_type": "markdown",
   "id": "5833cb1e",
   "metadata": {},
   "source": [
    "************"
   ]
  },
  {
   "cell_type": "markdown",
   "id": "8e372647",
   "metadata": {},
   "source": [
    "**Görev - 3**"
   ]
  },
  {
   "cell_type": "code",
   "execution_count": 16,
   "id": "62bfef38",
   "metadata": {},
   "outputs": [],
   "source": [
    "# 1. Herhangi bir detay sayfasına girip o sayfadaki detay linkini tutan elementleri yakalayan XPATH sorgusunu yazacağız"
   ]
  },
  {
   "cell_type": "code",
   "execution_count": 17,
   "id": "be3ad125",
   "metadata": {},
   "outputs": [],
   "source": [
    "driver.get(category_urls[0])\n",
    "time.sleep(SLEEP_TIME)\n",
    "book_elements_xpath = \"//div[@class='image_container']//a\""
   ]
  },
  {
   "cell_type": "code",
   "execution_count": 18,
   "id": "5a8e5bfd",
   "metadata": {},
   "outputs": [],
   "source": [
    "# 2. driver ile XPATH sorgusunu kullanarak elementleri yakalayacağız ve detay linklerini çıkartacağız"
   ]
  },
  {
   "cell_type": "code",
   "execution_count": 19,
   "id": "6a59ab6b",
   "metadata": {},
   "outputs": [
    {
     "data": {
      "text/plain": [
       "11"
      ]
     },
     "execution_count": 19,
     "metadata": {},
     "output_type": "execute_result"
    }
   ],
   "source": [
    "book_elements = driver.find_elements(By.XPATH , book_elements_xpath)\n",
    "book_urls = [element.get_attribute(\"href\") for element in book_elements]\n",
    "book_urls\n",
    "len(book_urls)"
   ]
  },
  {
   "cell_type": "code",
   "execution_count": 20,
   "id": "cad177b7",
   "metadata": {},
   "outputs": [],
   "source": [
    "# 3. Sayfalandırma (Pagination) için butonlara tıklamak yerine sayfa linkini manipüle edeceğiz"
   ]
  },
  {
   "cell_type": "code",
   "execution_count": 21,
   "id": "824be312",
   "metadata": {},
   "outputs": [
    {
     "data": {
      "text/plain": [
       "22"
      ]
     },
     "execution_count": 21,
     "metadata": {},
     "output_type": "execute_result"
    }
   ],
   "source": [
    "MAX_PAGINATION = 3 #test amaçlı\n",
    "url = category_urls[0]\n",
    "book_urls = []\n",
    "\n",
    "for i in range(1 , MAX_PAGINATION):\n",
    "    update_url = url if i == 1 else url.replace(\"index\" , f\"page-{i}\")\n",
    "    driver.get(update_url)\n",
    "    book_elements = driver.find_elements(By.XPATH, book_elements_xpath)\n",
    "    \n",
    "    temp_urls = [element.get_attribute(\"href\") for element in book_elements]\n",
    "    book_urls.extend(temp_urls)\n",
    "    \n",
    "book_urls\n",
    "len(book_urls)"
   ]
  },
  {
   "cell_type": "code",
   "execution_count": 22,
   "id": "37bedbea",
   "metadata": {},
   "outputs": [],
   "source": [
    "# 4. Sayfalandırmanın sonuna geldiğini anlamak adına kateegorinin 999. sayfasına giderek karşınıza çıkan sayfayı inceleyeceğiz"
   ]
  },
  {
   "cell_type": "code",
   "execution_count": 23,
   "id": "5b43801d",
   "metadata": {},
   "outputs": [],
   "source": [
    "# 5. Bir önceki adımda incelemenin sonucunda sayfalandırmada sonsuz döngüye girmemek adına kontrol kullanmalıyız"
   ]
  },
  {
   "cell_type": "code",
   "execution_count": 24,
   "id": "e19bf5e7",
   "metadata": {},
   "outputs": [
    {
     "data": {
      "text/plain": [
       "33"
      ]
     },
     "execution_count": 24,
     "metadata": {},
     "output_type": "execute_result"
    }
   ],
   "source": [
    "MAX_PAGINATION = 4 #test amaçlı\n",
    "url = category_urls[0]\n",
    "book_urls = []\n",
    "\n",
    "for i in range(1 , MAX_PAGINATION):\n",
    "    update_url = url if i == 1 else url.replace(\"index\" , f\"page-{i}\")\n",
    "    driver.get(update_url)\n",
    "    book_elements = driver.find_elements(By.XPATH, book_elements_xpath)\n",
    "    \n",
    "    if not book_elements:\n",
    "        break\n",
    "    \n",
    "    temp_urls = [element.get_attribute(\"href\") for element in book_elements]\n",
    "    book_urls.extend(temp_urls)\n",
    "    \n",
    "book_urls\n",
    "len(book_urls)"
   ]
  },
  {
   "cell_type": "markdown",
   "id": "e17c3be0",
   "metadata": {},
   "source": [
    "*************"
   ]
  },
  {
   "cell_type": "markdown",
   "id": "d318d21a",
   "metadata": {},
   "source": [
    "**Görev - 4**"
   ]
  },
  {
   "cell_type": "code",
   "execution_count": 25,
   "id": "fad5633b",
   "metadata": {},
   "outputs": [],
   "source": [
    "# 1. Herhangi bir ürünün detay sayfasına girip class attribute'ı content olan div elementini yakalayınız."
   ]
  },
  {
   "cell_type": "code",
   "execution_count": 32,
   "id": "bb2945d6",
   "metadata": {},
   "outputs": [],
   "source": [
    "driver.get(book_urls[0])\n",
    "time.sleep(SLEEP_TIME)\n",
    "content_div = driver.find_elements(By.XPATH , \"//div[@class='content']\")"
   ]
  },
  {
   "cell_type": "code",
   "execution_count": 26,
   "id": "56fdf5b2",
   "metadata": {},
   "outputs": [],
   "source": [
    "# 2. Yakaladığınız divin html'ini alınız ve inner_html adlı değişkene atayınız"
   ]
  },
  {
   "cell_type": "code",
   "execution_count": 38,
   "id": "ee0b5534",
   "metadata": {},
   "outputs": [],
   "source": [
    "inner_html = content_div[0].get_attribute(\"innerHTML\")"
   ]
  },
  {
   "cell_type": "code",
   "execution_count": 39,
   "id": "e43b9bea",
   "metadata": {},
   "outputs": [],
   "source": [
    "# 3. inner_html ile soup objesi oluşturunuz"
   ]
  },
  {
   "cell_type": "code",
   "execution_count": 40,
   "id": "9222dbf7",
   "metadata": {
    "scrolled": false
   },
   "outputs": [],
   "source": [
    "from bs4 import BeautifulSoup\n",
    "soup = BeautifulSoup(inner_html , \"html.parser\")"
   ]
  },
  {
   "cell_type": "code",
   "execution_count": 41,
   "id": "d36f1e84",
   "metadata": {},
   "outputs": [],
   "source": [
    "# 4. Oluşturduğunuz soup objesi ile su bilgileri kazıyınız."
   ]
  },
  {
   "cell_type": "code",
   "execution_count": 43,
   "id": "0026cdf8",
   "metadata": {},
   "outputs": [],
   "source": [
    "# -> Kitap Adı,\n",
    "\n",
    "name_elem = soup.find(\"h1\")\n",
    "book_name = name_elem.text"
   ]
  },
  {
   "cell_type": "code",
   "execution_count": 46,
   "id": "f2fb1f0c",
   "metadata": {},
   "outputs": [],
   "source": [
    "# -> Kitap Fiyatı,\n",
    "\n",
    "price_elem = soup.find(\"p\" , attrs={\"class\":\"price_color\"})\n",
    "book_price = price_elem.text"
   ]
  },
  {
   "cell_type": "code",
   "execution_count": 48,
   "id": "5c302a0a",
   "metadata": {},
   "outputs": [],
   "source": [
    "# -> Kitap Yıldız Sayısı,\n",
    "\n",
    "import re\n",
    "regex = re.compile('^star-rating')\n",
    "star_elem = soup.find(\"p\" , attrs={\"class\":regex})\n",
    "book_star_count = star_elem[\"class\"][-1]"
   ]
  },
  {
   "cell_type": "code",
   "execution_count": 49,
   "id": "004e6cb2",
   "metadata": {},
   "outputs": [],
   "source": [
    "# -> Kitap Açıklaması\n",
    "\n",
    "desc_elem = soup.find(\"div\" , attrs={\"id\":\"product_description\"}).find_next_sibling() # bir sonraki kardeşini bul"
   ]
  },
  {
   "cell_type": "code",
   "execution_count": 51,
   "id": "ded2e592",
   "metadata": {},
   "outputs": [],
   "source": [
    "# -> Product Information Başlığı Altında Kalan Tablodaki Bilgiler\n",
    "\n",
    "product_info = {}\n",
    "table_rows = soup.find(\"table\").find_all(\"tr\")\n",
    "\n",
    "for row in table_rows:\n",
    "    key = row.find(\"th\").text\n",
    "    value = row.find(\"td\").text\n",
    "    product_info[key] = value"
   ]
  },
  {
   "cell_type": "code",
   "execution_count": 55,
   "id": "a329e53f",
   "metadata": {},
   "outputs": [
    {
     "name": "stdout",
     "output_type": "stream",
     "text": [
      "name: It's Only the Himalayas\n",
      "price: £45.17\n",
      "star: Two\n",
      "description: <p>“Wherever you go, whatever you do, just . . . don’t do anything stupid.” —My MotherDuring her yearlong adventure backpacking from South Africa to Singapore, S. Bedford definitely did a few things her mother might classify as \"stupid.\" She swam with great white sharks in South Africa, ran from lions in Zimbabwe, climbed a Himalayan mountain without training in Nepal, and wa “Wherever you go, whatever you do, just . . . don’t do anything stupid.” —My MotherDuring her yearlong adventure backpacking from South Africa to Singapore, S. Bedford definitely did a few things her mother might classify as \"stupid.\" She swam with great white sharks in South Africa, ran from lions in Zimbabwe, climbed a Himalayan mountain without training in Nepal, and watched as her friend was attacked by a monkey in Indonesia.But interspersed in those slightly more crazy moments, Sue Bedfored and her friend \"Sara the Stoic\" experienced the sights, sounds, life, and culture of fifteen countries. Joined along the way by a few friends and their aging fathers here and there, Sue and Sara experience the trip of a lifetime. They fall in love with the world, cultivate an appreciation for home, and discover who, or what, they want to become.It's Only the Himalayas is the incredibly funny, sometimes outlandish, always entertaining confession of a young backpacker that will inspire you to take your own adventure. ...more</p>\n",
      "/ninfo: {'UPC': 'a22124811bfa8350', 'Product Type': 'Books', 'Price (excl. tax)': '£45.17', 'Price (incl. tax)': '£45.17', 'Tax': '£0.00', 'Availability': 'In stock (19 available)', 'Number of reviews': '0'}\n"
     ]
    }
   ],
   "source": [
    "print(\"name:\" , book_name)\n",
    "print(\"price:\" , book_price)\n",
    "print(\"star:\" , book_star_count)\n",
    "print(\"description:\" , desc_elem)\n",
    "print(\"info:\" , product_info)"
   ]
  },
  {
   "cell_type": "markdown",
   "id": "d85c9089",
   "metadata": {},
   "source": [
    "*****"
   ]
  },
  {
   "cell_type": "markdown",
   "id": "f891e796",
   "metadata": {},
   "source": [
    "**Görev - 5**"
   ]
  },
  {
   "cell_type": "code",
   "execution_count": 58,
   "id": "d5ade713",
   "metadata": {},
   "outputs": [],
   "source": [
    "# 1. İşlemleri fonkssiyonlarştıracağız."
   ]
  },
  {
   "cell_type": "code",
   "execution_count": 30,
   "id": "11c09aee",
   "metadata": {},
   "outputs": [],
   "source": [
    "def get_book_detail(driver, url):\n",
    "    driver.get(url)\n",
    "    time.sleep(SLEEP_TIME)\n",
    "    content_div = driver.find_elements(By.XPATH , \"//div[@class='content']\")\n",
    "\n",
    "    inner_html = content_div[0].get_attribute(\"innerHTML\")\n",
    "    from bs4 import BeautifulSoup\n",
    "    soup = BeautifulSoup(inner_html , \"html.parser\")\n",
    "    name_elem = soup.find(\"h1\")\n",
    "    book_name = name_elem.text\n",
    "    price_elem = soup.find(\"p\" , attrs={\"class\":\"price_color\"})\n",
    "    book_price = price_elem.text\n",
    "    import re\n",
    "    regex = re.compile('^star-rating')\n",
    "    star_elem = soup.find(\"p\" , attrs={\"class\":regex})\n",
    "    book_star_count = star_elem[\"class\"][-1]\n",
    "    desc_elem = soup.find(\"div\" , attrs={\"id\":\"product_description\"}).find_next_sibling() # bir sonraki kardeşini bul\n",
    "    book_desc = desc_elem.text\n",
    "    product_info = {}\n",
    "    table_rows = soup.find(\"table\").find_all(\"tr\")\n",
    "    for row in table_rows:\n",
    "        key = row.find(\"th\").text\n",
    "        value = row.find(\"td\").text\n",
    "        product_info[key] = value    \n",
    "    return {'book_name' : book_name , 'book_price' : book_price , 'book_star_count' : book_star_count , 'book_desc' : book_desc,\n",
    "            **product_info}   \n",
    "\n",
    "def get_book_urls(driver, url):\n",
    "    MAX_PAGINATION = 3 #test amaçlı\n",
    "    book_urls = []\n",
    "    book_elements_xpath = \"//div[@class='image_container']//a\"\n",
    "\n",
    "    for i in range(1 , MAX_PAGINATION):\n",
    "        update_url = url if i == 1 else url.replace(\"index\" , f\"page-{i}\")\n",
    "        driver.get(update_url)\n",
    "        time.sleep(SLEEP_TIME)\n",
    "        book_elements = driver.find_elements(By.XPATH, book_elements_xpath)\n",
    "        \n",
    "        if not book_elements:\n",
    "            break\n",
    "            \n",
    "        temp_urls = [element.get_attribute(\"href\") for element in book_elements]\n",
    "        book_urls.extend(temp_urls)\n",
    "def get_travel_and_nonfiction_category_urls(driver , url):\n",
    "    driver.get(url)\n",
    "    time.sleep(SLEEP_TIME)\n",
    "    category_elements_xpath =\"//a[contains(text() , 'Travel') or contains(text() , 'Nonfiction')]\"\n",
    "    category_elements = driver.find_elements(By.XPATH , category_elements_xpath) # find.elements metodunu kullandık\n",
    "    category_urls = [element.get_attribute(\"href\") for element in category_elements]\n",
    "    return category_urls\n",
    "\n",
    "\n",
    "def initialize_driver():\n",
    "#    Initilizes driver with maximized option\n",
    "    options = webdriver.ChromeOptions()\n",
    "    options.add_argument('--start-maximized');\n",
    "    driver = webdriver.Chrome(options)\n",
    "    return driver"
   ]
  },
  {
   "cell_type": "code",
   "execution_count": 31,
   "id": "231414c0",
   "metadata": {},
   "outputs": [],
   "source": [
    "# 2. Süreci optimize ederek, Travel ile Nonfiction kategorilerine ait tüm kitapların detaylarını alacak şekilde kodu düzenleyeceğiz"
   ]
  },
  {
   "cell_type": "code",
   "execution_count": 32,
   "id": "67399207",
   "metadata": {
    "collapsed": true
   },
   "outputs": [
    {
     "ename": "TypeError",
     "evalue": "'NoneType' object is not iterable",
     "output_type": "error",
     "traceback": [
      "\u001b[1;31m---------------------------------------------------------------------------\u001b[0m",
      "\u001b[1;31mTypeError\u001b[0m                                 Traceback (most recent call last)",
      "Cell \u001b[1;32mIn[32], line 32\u001b[0m\n\u001b[0;32m     27\u001b[0m     df \u001b[38;5;241m=\u001b[39m pd\u001b[38;5;241m.\u001b[39mDataFrame(data)\n\u001b[0;32m     29\u001b[0m     \u001b[38;5;28;01mreturn\u001b[39;00m df\n\u001b[1;32m---> 32\u001b[0m df \u001b[38;5;241m=\u001b[39m main()\n\u001b[0;32m     34\u001b[0m \u001b[38;5;28mprint\u001b[39m(df\u001b[38;5;241m.\u001b[39mhead())\n\u001b[0;32m     35\u001b[0m \u001b[38;5;28mprint\u001b[39m(df\u001b[38;5;241m.\u001b[39mshape)\n",
      "Cell \u001b[1;32mIn[32], line 15\u001b[0m, in \u001b[0;36mmain\u001b[1;34m()\u001b[0m\n\u001b[0;32m     13\u001b[0m \u001b[38;5;28;01mfor\u001b[39;00m cat_url \u001b[38;5;129;01min\u001b[39;00m category_urls:\n\u001b[0;32m     14\u001b[0m     book_urls \u001b[38;5;241m=\u001b[39m get_book_urls(driver , cat_url)\n\u001b[1;32m---> 15\u001b[0m     \u001b[38;5;28;01mfor\u001b[39;00m book_url \u001b[38;5;129;01min\u001b[39;00m book_urls:\n\u001b[0;32m     16\u001b[0m         book_data \u001b[38;5;241m=\u001b[39m get_book_detail(driver, book_url)\n\u001b[0;32m     17\u001b[0m         book_data[\u001b[38;5;124m\"\u001b[39m\u001b[38;5;124mcat_url\u001b[39m\u001b[38;5;124m\"\u001b[39m] \u001b[38;5;241m=\u001b[39m cat_url\n",
      "\u001b[1;31mTypeError\u001b[0m: 'NoneType' object is not iterable"
     ]
    }
   ],
   "source": [
    "import time \n",
    "from selenium import webdriver\n",
    "from selenium.webdriver.common.by import By\n",
    "\n",
    "SLEEP_TIME = 0.25\n",
    "\n",
    "def main():\n",
    "    BASE_URL = \"https://books.toscrape.com/\"\n",
    "    driver = initialize_driver()\n",
    "    category_urls = get_travel_and_nonfiction_category_urls(driver, BASE_URL)\n",
    "    data = []\n",
    "    \n",
    "    for cat_url in category_urls:\n",
    "        book_urls = get_book_urls(driver , cat_url)\n",
    "        for book_url in book_urls:\n",
    "            book_data = get_book_detail(driver, book_url)\n",
    "            book_data[\"cat_url\"] = cat_url\n",
    "            data.append(book_data)\n",
    "    \n",
    "    len(data)        \n",
    "    \n",
    "    \n",
    "    import pandas as pd\n",
    "    pd.set_option(\"display.max_columns\" , None)\n",
    "    pd.set_option(\"display.max_colwidth\" , 40)\n",
    "    pd.set_option(\"display.width\" , 2000)\n",
    "    df = pd.DataFrame(data)\n",
    "    \n",
    "    return df\n",
    "\n",
    "    \n",
    "df = main()\n",
    "\n",
    "print(df.head())\n",
    "print(df.shape)"
   ]
  },
  {
   "cell_type": "markdown",
   "id": "ac4c8a6a",
   "metadata": {},
   "source": [
    "**Web Kazıma İşlemi**"
   ]
  },
  {
   "cell_type": "code",
   "execution_count": 36,
   "id": "29266aea",
   "metadata": {},
   "outputs": [
    {
     "name": "stdout",
     "output_type": "stream",
     "text": [
      "                                 book_name book_price book_star_count                                book_desc               UPC Product Type Price (excl. tax) Price (incl. tax)    Tax             Availability Number of reviews                                  cat_url\n",
      "0                  It's Only the Himalayas     £45.17             Two  “Wherever you go, whatever you do, j...  a22124811bfa8350        Books            £45.17            £45.17  £0.00  In stock (19 available)                 0  https://books.toscrape.com/catalogue...\n",
      "1  Full Moon over Noah’s Ark: An Odysse...     £49.43            Four  Acclaimed travel writer Rick Antonso...  ce60436f52c5ee68        Books            £49.43            £49.43  £0.00  In stock (15 available)                 0  https://books.toscrape.com/catalogue...\n",
      "2  See America: A Celebration of Our Na...     £48.87           Three  To coincide with the 2016 centennial...  f9705c362f070608        Books            £48.87            £48.87  £0.00  In stock (14 available)                 0  https://books.toscrape.com/catalogue...\n",
      "3  Vagabonding: An Uncommon Guide to th...     £36.94             Two  With a new foreword by Tim Ferriss •...  1809259a5a5f1d8d        Books            £36.94            £36.94  £0.00   In stock (8 available)                 0  https://books.toscrape.com/catalogue...\n",
      "4                     Under the Tuscan Sun     £37.33           Three  A CLASSIC FROM THE BESTSELLING AUTHO...  a94350ee74deaa07        Books            £37.33            £37.33  £0.00   In stock (7 available)                 0  https://books.toscrape.com/catalogue...\n",
      "(71, 12)\n"
     ]
    }
   ],
   "source": [
    "import time \n",
    "from selenium import webdriver\n",
    "from selenium.webdriver.common.by import By\n",
    "\n",
    "SLEEP_TIME = 0.25\n",
    "\n",
    "def initialize_driver():\n",
    "    # Initilizes driver with maximized option\n",
    "    options = webdriver.ChromeOptions()\n",
    "    options.add_argument('--start-maximized')\n",
    "    driver = webdriver.Chrome(options=options)\n",
    "    return driver\n",
    "\n",
    "def get_book_detail(driver, url):\n",
    "    driver.get(url)\n",
    "    time.sleep(SLEEP_TIME)\n",
    "    content_div = driver.find_elements(By.XPATH , \"//div[@class='content']\")\n",
    "\n",
    "    if not content_div:\n",
    "        return None\n",
    "\n",
    "    inner_html = content_div[0].get_attribute(\"innerHTML\")\n",
    "    from bs4 import BeautifulSoup\n",
    "    soup = BeautifulSoup(inner_html , \"html.parser\")\n",
    "    name_elem = soup.find(\"h1\")\n",
    "    book_name = name_elem.text if name_elem else 'N/A'\n",
    "    price_elem = soup.find(\"p\" , attrs={\"class\":\"price_color\"})\n",
    "    book_price = price_elem.text if price_elem else 'N/A'\n",
    "    import re\n",
    "    regex = re.compile('^star-rating')\n",
    "    star_elem = soup.find(\"p\" , attrs={\"class\":regex})\n",
    "    book_star_count = star_elem[\"class\"][-1] if star_elem else 'N/A'\n",
    "    desc_elem = soup.find(\"div\" , attrs={\"id\":\"product_description\"})\n",
    "    book_desc = desc_elem.find_next_sibling().text if desc_elem else 'N/A'\n",
    "    product_info = {}\n",
    "    table_rows = soup.find(\"table\").find_all(\"tr\")\n",
    "    for row in table_rows:\n",
    "        key = row.find(\"th\").text\n",
    "        value = row.find(\"td\").text\n",
    "        product_info[key] = value    \n",
    "    return {'book_name' : book_name , 'book_price' : book_price , 'book_star_count' : book_star_count , 'book_desc' : book_desc,\n",
    "            **product_info}   \n",
    "\n",
    "def get_book_urls(driver, url):\n",
    "    MAX_PAGINATION = 3 #test amaçlı\n",
    "    book_urls = []\n",
    "    book_elements_xpath = \"//div[@class='image_container']//a\"\n",
    "\n",
    "    for i in range(1 , MAX_PAGINATION + 1):\n",
    "        update_url = url if i == 1 else url.replace(\"index.html\" , f\"page-{i}.html\")\n",
    "        driver.get(update_url)\n",
    "        time.sleep(SLEEP_TIME)\n",
    "        book_elements = driver.find_elements(By.XPATH, book_elements_xpath)\n",
    "        \n",
    "        if not book_elements:\n",
    "            break\n",
    "            \n",
    "        temp_urls = [element.get_attribute(\"href\") for element in book_elements]\n",
    "        book_urls.extend(temp_urls)\n",
    "    return book_urls\n",
    "\n",
    "def get_travel_and_nonfiction_category_urls(driver , url):\n",
    "    driver.get(url)\n",
    "    time.sleep(SLEEP_TIME)\n",
    "    category_elements_xpath =\"//a[contains(text() , 'Travel') or contains(text() , 'Nonfiction')]\"\n",
    "    category_elements = driver.find_elements(By.XPATH , category_elements_xpath) # find.elements metodunu kullandık\n",
    "    category_urls = [element.get_attribute(\"href\") for element in category_elements]\n",
    "    return category_urls\n",
    "\n",
    "def main():\n",
    "    BASE_URL = \"https://books.toscrape.com/index.html\"\n",
    "    driver = initialize_driver()\n",
    "    category_urls = get_travel_and_nonfiction_category_urls(driver, BASE_URL)\n",
    "    data = []\n",
    "    \n",
    "    for cat_url in category_urls:\n",
    "        book_urls = get_book_urls(driver , cat_url)\n",
    "        for book_url in book_urls:\n",
    "            book_data = get_book_detail(driver, book_url)\n",
    "            if book_data:\n",
    "                book_data[\"cat_url\"] = cat_url\n",
    "                data.append(book_data)\n",
    "    \n",
    "    import pandas as pd\n",
    "    pd.set_option(\"display.max_columns\" , None)\n",
    "    pd.set_option(\"display.max_colwidth\" , 40)\n",
    "    pd.set_option(\"display.width\" , 2000)\n",
    "    df = pd.DataFrame(data)\n",
    "    \n",
    "    return df\n",
    "\n",
    "df = main()\n",
    "\n",
    "print(df.head())\n",
    "print(df.shape)\n"
   ]
  },
  {
   "cell_type": "code",
   "execution_count": null,
   "id": "46955174",
   "metadata": {},
   "outputs": [],
   "source": []
  }
 ],
 "metadata": {
  "kernelspec": {
   "display_name": "Python 3 (ipykernel)",
   "language": "python",
   "name": "python3"
  },
  "language_info": {
   "codemirror_mode": {
    "name": "ipython",
    "version": 3
   },
   "file_extension": ".py",
   "mimetype": "text/x-python",
   "name": "python",
   "nbconvert_exporter": "python",
   "pygments_lexer": "ipython3",
   "version": "3.11.7"
  }
 },
 "nbformat": 4,
 "nbformat_minor": 5
}
